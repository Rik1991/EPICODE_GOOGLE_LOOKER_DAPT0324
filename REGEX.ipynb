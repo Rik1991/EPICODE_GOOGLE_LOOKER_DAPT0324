{
  "nbformat": 4,
  "nbformat_minor": 0,
  "metadata": {
    "colab": {
      "provenance": []
    },
    "kernelspec": {
      "name": "python3",
      "display_name": "Python 3"
    },
    "language_info": {
      "name": "python"
    }
  },
  "cells": [
    {
      "cell_type": "code",
      "execution_count": 2,
      "metadata": {
        "id": "cy3rInWwxJPb"
      },
      "outputs": [],
      "source": [
        "import re\n",
        "\n",
        "def valida_codice_fiscale(codice):\n",
        "  \"\"\"Valida un codice fiscale italiano.\"\"\"\n",
        "  pattern = r\"^[A-Z]{6}\\d{2}[A-Z]\\d{2}[A-Z]\\d{3}[A-Z]$\"\n",
        "  return re.match(pattern, codice) is not None\n",
        "\n",
        "def valida_email(email):\n",
        "  \"\"\"Valida un indirizzo email.\"\"\"\n",
        "  pattern = r\"^[a-zA-Z0-9._%+-]+@[a-zA-Z0-9.-]+\\.[a-zA-Z]{2,}$\"\n",
        "  return re.match(pattern, email) is not None\n",
        "\n",
        "def valida_data(data):\n",
        "  \"\"\"Valida una data nel formato DD/MM/YYYY.\"\"\"\n",
        "  pattern = r\"^(0[1-9]|1[0-9]|2[0-9]|3[01])/(0[1-9]|1[0-2])/\\d{4}$\"\n",
        "  return re.match(pattern, data) is not None"
      ]
    },
    {
      "cell_type": "code",
      "source": [
        "codice_fiscale = input(\"Inserisci il tuo codice fiscale: \")\n",
        "\n",
        "# Validiamo i dati\n",
        "\n",
        "if valida_codice_fiscale(codice_fiscale):\n",
        "  print(\"Il tuo codice fiscale è valido!\")\n",
        "else:\n",
        "  print(\"Il codice fiscale non è valido. Controlla che sia composto da lettere e numeri nella sequenza corretta.\")"
      ],
      "metadata": {
        "colab": {
          "base_uri": "https://localhost:8080/"
        },
        "id": "Zt0wTPFu1ApQ",
        "outputId": "f2c7149e-3764-4e3d-c8fe-6e91e70ea2fd"
      },
      "execution_count": 4,
      "outputs": [
        {
          "output_type": "stream",
          "name": "stdout",
          "text": [
            "Inserisci il tuo codice fiscale: RNLRCR91L03F257Z\n",
            "Il tuo codice fiscale è valido!\n"
          ]
        }
      ]
    },
    {
      "cell_type": "code",
      "source": [
        "email = input(\"Inserisci la tua email: \")\n",
        "\n",
        "# Validiamo i dati\n",
        "\n",
        "if valida_email(email):\n",
        "  print(\"La tua email è valida!\")\n",
        "else:\n",
        "  print(\"L'email non è valida. Assicurati di averla scritta correttamente.\")"
      ],
      "metadata": {
        "id": "bnGjzBGF1gTO"
      },
      "execution_count": null,
      "outputs": []
    },
    {
      "cell_type": "code",
      "source": [
        "data = input(\"Inserisci una data nel formato GG/MM/AAAA: \")\n",
        "\n",
        "# Validiamo i dati\n",
        "\n",
        "if valida_data(data):\n",
        "  print(\"La data è valida!\")\n",
        "else:\n",
        "  print(\"La data non è nel formato corretto. Ricorda di usare il formato GG/MM/AAAA.\")"
      ],
      "metadata": {
        "id": "y-UQ2iKe1iR_"
      },
      "execution_count": null,
      "outputs": []
    }
  ]
}